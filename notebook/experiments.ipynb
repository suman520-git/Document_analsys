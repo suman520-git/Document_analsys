{
 "cells": [
  {
   "cell_type": "code",
   "execution_count": 2,
   "id": "5a01a37e",
   "metadata": {},
   "outputs": [
    {
     "name": "stdout",
     "output_type": "stream",
     "text": [
      "ok\n"
     ]
    }
   ],
   "source": [
    "print(\"ok\")"
   ]
  },
  {
   "cell_type": "code",
   "execution_count": 3,
   "id": "d6c3f02f",
   "metadata": {},
   "outputs": [],
   "source": [
    "import sys"
   ]
  },
  {
   "cell_type": "code",
   "execution_count": 4,
   "id": "8774a572",
   "metadata": {},
   "outputs": [
    {
     "data": {
      "text/plain": [
       "(None, None, None)"
      ]
     },
     "execution_count": 4,
     "metadata": {},
     "output_type": "execute_result"
    }
   ],
   "source": [
    "sys.exc_info()"
   ]
  },
  {
   "cell_type": "code",
   "execution_count": 1,
   "id": "c0d1461d",
   "metadata": {},
   "outputs": [
    {
     "name": "stdout",
     "output_type": "stream",
     "text": [
      "Filename from file path: report.pdf\n"
     ]
    }
   ],
   "source": [
    "import os\n",
    "\n",
    "# Example with a file path\n",
    "file_path = \"/home/user/documents/report.pdf\"\n",
    "filename = os.path.basename(file_path)\n",
    "print(f\"Filename from file path: {filename}\")\n",
    "\n"
   ]
  },
  {
   "cell_type": "code",
   "execution_count": 3,
   "id": "837a6b73",
   "metadata": {},
   "outputs": [],
   "source": [
    "x= 5 or 10"
   ]
  },
  {
   "cell_type": "code",
   "execution_count": 2,
   "id": "b560886c",
   "metadata": {},
   "outputs": [
    {
     "name": "stdout",
     "output_type": "stream",
     "text": [
      "Basename from directory path ending with separator: \n",
      "Basename from directory path without trailing separator: documents\n",
      "Basename from empty path: \n"
     ]
    }
   ],
   "source": [
    "# Example with a directory path\n",
    "dir_path = \"/home/user/documents/\"\n",
    "dirname = os.path.basename(dir_path)\n",
    "print(f\"Basename from directory path ending with separator: {dirname}\")\n",
    "\n",
    "# Example with a directory path without trailing separator\n",
    "dir_path_no_sep = \"/home/user/documents\"\n",
    "dirname_no_sep = os.path.basename(dir_path_no_sep)\n",
    "print(f\"Basename from directory path without trailing separator: {dirname_no_sep}\")\n",
    "\n",
    "# Example with an empty path\n",
    "empty_path = \"\"\n",
    "empty_basename = os.path.basename(empty_path)\n",
    "print(f\"Basename from empty path: {empty_basename}\")"
   ]
  },
  {
   "cell_type": "code",
   "execution_count": 7,
   "id": "bc8c9c53",
   "metadata": {},
   "outputs": [],
   "source": [
    "from pathlib import Path"
   ]
  },
  {
   "cell_type": "code",
   "execution_count": null,
   "id": "8a1fc22f",
   "metadata": {},
   "outputs": [],
   "source": [
    "# Path(\"D:/document_portal/notebook/experiments\").mkdir(parents=True, exist_ok=True)"
   ]
  },
  {
   "cell_type": "code",
   "execution_count": null,
   "id": "3f7ab7da",
   "metadata": {},
   "outputs": [],
   "source": [
    "# Path(\"D:/document_portal/notebook/experimentss\").mkdir( exist_ok=True)"
   ]
  },
  {
   "cell_type": "code",
   "execution_count": 1,
   "id": "9dae04f3",
   "metadata": {},
   "outputs": [
    {
     "name": "stdout",
     "output_type": "stream",
     "text": [
      "SHA-256 Hash: dffd6021bb2bd5b0af676290809ec3a53191dd81c7f70a4b28688a362182986f\n"
     ]
    }
   ],
   "source": [
    "import hashlib\n",
    "\n",
    "# Data to be hashed (must be in bytes)\n",
    "data = b\"Hello, World!\"\n",
    "\n",
    "# Create a SHA-256 hash object\n",
    "hash_object = hashlib.sha256(data)\n",
    "\n",
    "# Get the hexadecimal representation of the hash\n",
    "hex_dig = hash_object.hexdigest()\n",
    "\n",
    "print(\"SHA-256 Hash:\", hex_dig)"
   ]
  },
  {
   "cell_type": "code",
   "execution_count": 1,
   "id": "a81752ce",
   "metadata": {},
   "outputs": [],
   "source": [
    "import uuid"
   ]
  },
  {
   "cell_type": "code",
   "execution_count": 2,
   "id": "291aa88e",
   "metadata": {},
   "outputs": [
    {
     "name": "stdout",
     "output_type": "stream",
     "text": [
      "b3750558-1613-4603-aaa3-5a2b3f2aae54\n"
     ]
    }
   ],
   "source": [
    "import uuid\n",
    "\n",
    "my_uuid = uuid.uuid4()\n",
    "print(my_uuid)"
   ]
  },
  {
   "cell_type": "code",
   "execution_count": 3,
   "id": "56e1a20a",
   "metadata": {},
   "outputs": [
    {
     "name": "stdout",
     "output_type": "stream",
     "text": [
      "Name: Alice\n",
      "Country: Unknown\n",
      "Error: 'Person' object has no attribute 'occupation'\n"
     ]
    }
   ],
   "source": [
    "class Person:\n",
    "    def __init__(self, name, age):\n",
    "        self.name = name\n",
    "        self.age = age\n",
    "\n",
    "person = Person(\"Alice\", 30)\n",
    "\n",
    "# Accessing an existing attribute\n",
    "name_value = getattr(person, \"name\")\n",
    "print(f\"Name: {name_value}\")\n",
    "\n",
    "# Accessing a non-existent attribute with a default value\n",
    "country_value = getattr(person, \"country\", \"Unknown\")\n",
    "print(f\"Country: {country_value}\")\n",
    "\n",
    "# Attempting to access a non-existent attribute without a default value (will raise AttributeError)\n",
    "try:\n",
    "    occupation_value = getattr(person, \"occupation\")\n",
    "except AttributeError as e:\n",
    "    print(f\"Error: {e}\")"
   ]
  },
  {
   "cell_type": "code",
   "execution_count": null,
   "id": "47366a73",
   "metadata": {},
   "outputs": [],
   "source": []
  },
  {
   "cell_type": "code",
   "execution_count": null,
   "id": "3dbaf799",
   "metadata": {},
   "outputs": [],
   "source": []
  },
  {
   "cell_type": "code",
   "execution_count": null,
   "id": "2a1dcd00",
   "metadata": {},
   "outputs": [],
   "source": []
  }
 ],
 "metadata": {
  "kernelspec": {
   "display_name": "venv",
   "language": "python",
   "name": "python3"
  },
  "language_info": {
   "codemirror_mode": {
    "name": "ipython",
    "version": 3
   },
   "file_extension": ".py",
   "mimetype": "text/x-python",
   "name": "python",
   "nbconvert_exporter": "python",
   "pygments_lexer": "ipython3",
   "version": "3.10.0"
  }
 },
 "nbformat": 4,
 "nbformat_minor": 5
}
